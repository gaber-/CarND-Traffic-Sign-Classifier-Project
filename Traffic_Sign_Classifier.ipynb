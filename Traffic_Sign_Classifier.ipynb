{
 "cells": [
  {
   "cell_type": "markdown",
   "metadata": {},
   "source": [
    "\n",
    "\n",
    "# Self-Driving Car Engineer Nanodegree\n",
    "\n",
    "## Deep Learning\n",
    "\n",
    "## Project: Build a Traffic Sign Recognition Classifier\n",
    "\n",
    "In this notebook, a template is provided for you to implement your functionality in stages, which is required to successfully complete this project. If additional code is required that cannot be included in the notebook, be sure that the Python code is successfully imported and included in your submission if necessary. \n",
    "\n",
    "> **Note**: Once you have completed all of the code implementations, you need to finalize your work by exporting the iPython Notebook as an HTML document. Before exporting the notebook to html, all of the code cells need to have been run so that reviewers can see the final implementation and output. You can then export the notebook by using the menu above and navigating to  \\n\",\n",
    "    \"**File -> Download as -> HTML (.html)**. Include the finished document along with this notebook as your submission. \n",
    "\n",
    "In addition to implementing code, there is a writeup to complete. The writeup should be completed in a separate file, which can be either a markdown file or a pdf document. There is a [write up template](https://github.com/udacity/CarND-Traffic-Sign-Classifier-Project/blob/master/writeup_template.md) that can be used to guide the writing process. Completing the code template and writeup template will cover all of the [rubric points](https://review.udacity.com/#!/rubrics/481/view) for this project.\n",
    "\n",
    "The [rubric](https://review.udacity.com/#!/rubrics/481/view) contains \"Stand Out Suggestions\" for enhancing the project beyond the minimum requirements. The stand out suggestions are optional. If you decide to pursue the \"stand out suggestions\", you can include the code in this Ipython notebook and also discuss the results in the writeup file.\n",
    "\n",
    "\n",
    ">**Note:** Code and Markdown cells can be executed using the **Shift + Enter** keyboard shortcut. In addition, Markdown cells can be edited by typically double-clicking the cell to enter edit mode."
   ]
  },
  {
   "cell_type": "markdown",
   "metadata": {},
   "source": [
    "---\n",
    "## Step 0: Load The Data"
   ]
  },
  {
   "cell_type": "code",
   "execution_count": 1,
   "metadata": {
    "collapsed": true
   },
   "outputs": [],
   "source": [
    "# Load pickled data\n",
    "import pickle\n",
    "\n",
    "# TODO: Fill this in based on where you saved the training and testing data\n",
    "\n",
    "training_file = \"traffic-data/train.p\"\n",
    "validation_file= \"traffic-data/valid.p\"\n",
    "testing_file = \"traffic-data/test.p\"\n",
    "\n",
    "with open(training_file, mode='rb') as f:\n",
    "    train = pickle.load(f)\n",
    "with open(validation_file, mode='rb') as f:\n",
    "    valid = pickle.load(f)\n",
    "with open(testing_file, mode='rb') as f:\n",
    "    test = pickle.load(f)\n",
    "    \n",
    "X_training, y_training = train['features'], train['labels']\n",
    "X_valid, y_valid = valid['features'], valid['labels']\n",
    "X_test, y_test = test['features'], test['labels']"
   ]
  },
  {
   "cell_type": "markdown",
   "metadata": {},
   "source": [
    "---\n",
    "\n",
    "## Step 1: Dataset Summary & Exploration\n",
    "\n",
    "The pickled data is a dictionary with 4 key/value pairs:\n",
    "\n",
    "- `'features'` is a 4D array containing raw pixel data of the traffic sign images, (num examples, width, height, channels).\n",
    "- `'labels'` is a 1D array containing the label/class id of the traffic sign. The file `signnames.csv` contains id -> name mappings for each id.\n",
    "- `'sizes'` is a list containing tuples, (width, height) representing the original width and height the image.\n",
    "- `'coords'` is a list containing tuples, (x1, y1, x2, y2) representing coordinates of a bounding box around the sign in the image. **THESE COORDINATES ASSUME THE ORIGINAL IMAGE. THE PICKLED DATA CONTAINS RESIZED VERSIONS (32 by 32) OF THESE IMAGES**\n",
    "\n",
    "Complete the basic data summary below. Use python, numpy and/or pandas methods to calculate the data summary rather than hard coding the results. For example, the [pandas shape method](http://pandas.pydata.org/pandas-docs/stable/generated/pandas.DataFrame.shape.html) might be useful for calculating some of the summary results. "
   ]
  },
  {
   "cell_type": "markdown",
   "metadata": {},
   "source": [
    "### Provide a Basic Summary of the Data Set Using Python, Numpy and/or Pandas"
   ]
  },
  {
   "cell_type": "code",
   "execution_count": 2,
   "metadata": {},
   "outputs": [
    {
     "name": "stdout",
     "output_type": "stream",
     "text": [
      "Number of training examples = 34799\n",
      "Number of testing examples = 12630\n",
      "Number of validation examples = 4410\n",
      "Image data shape = (32, 32, 3)\n",
      "Number of classes = 43\n"
     ]
    }
   ],
   "source": [
    "### Replace each question mark with the appropriate value. \n",
    "### Use python, pandas or numpy methods rather than hard coding the results\n",
    "\n",
    "import numpy as np\n",
    "\n",
    "# TODO: Number of training examples\n",
    "n_train = train['sizes'].shape[0]\n",
    "\n",
    "# TODO: Number of validation examples\n",
    "n_validation = valid['sizes'].shape[0]\n",
    "\n",
    "# TODO: Number of testing examples.\n",
    "n_test = test['sizes'].shape[0]\n",
    "\n",
    "# TODO: What's the shape of an traffic sign image?\n",
    "image_shape = train['features'][0].shape\n",
    "\n",
    "# TODO: How many unique classes/labels there are in the dataset.\n",
    "n_classes = np.unique(train['labels']).shape[0]\n",
    "\n",
    "print(\"Number of training examples =\", n_train)\n",
    "print(\"Number of testing examples =\", n_test)\n",
    "print(\"Number of validation examples =\", n_validation)\n",
    "print(\"Image data shape =\", image_shape)\n",
    "print(\"Number of classes =\", n_classes)"
   ]
  },
  {
   "cell_type": "markdown",
   "metadata": {},
   "source": [
    "### Include an exploratory visualization of the dataset"
   ]
  },
  {
   "cell_type": "markdown",
   "metadata": {},
   "source": [
    "Visualize the German Traffic Signs Dataset using the pickled file(s). This is open ended, suggestions include: plotting traffic sign images, plotting the count of each sign, etc. \n",
    "\n",
    "The [Matplotlib](http://matplotlib.org/) [examples](http://matplotlib.org/examples/index.html) and [gallery](http://matplotlib.org/gallery.html) pages are a great resource for doing visualizations in Python.\n",
    "\n",
    "**NOTE:** It's recommended you start with something simple first. If you wish to do more, come back to it after you've completed the rest of the sections. It can be interesting to look at the distribution of classes in the training, validation and test set. Is the distribution the same? Are there more examples of some classes than others?"
   ]
  },
  {
   "cell_type": "code",
   "execution_count": 3,
   "metadata": {},
   "outputs": [
    {
     "name": "stdout",
     "output_type": "stream",
     "text": [
      "5\n"
     ]
    },
    {
     "data": {
      "image/png": "[encoded data removed]",
      "text/plain": [
       "<matplotlib.figure.Figure at 0x7f485c6f0dd8>"
      ]
     },
     "metadata": {},
     "output_type": "display_data"
    }
   ],
   "source": [
    "### Data exploration visualization code goes here.\n",
    "### Feel free to use as many code cells as needed.\n",
    "import matplotlib.pyplot as plt\n",
    "import random\n",
    "# Visualizations will be shown in the notebook.\n",
    "%matplotlib inline\n",
    "\n",
    "index = random.randint(0, len(X_training))\n",
    "image = X_training[index].squeeze()\n",
    "\n",
    "plt.figure(figsize=(1,1))\n",
    "plt.imshow(image, cmap=\"gray\")\n",
    "print(y_training[index])"
   ]
  },
  {
   "cell_type": "code",
   "execution_count": null,
   "metadata": {
    "collapsed": true
   },
   "outputs": [],
   "source": []
  },
  {
   "cell_type": "code",
   "execution_count": 4,
   "metadata": {},
   "outputs": [
    {
     "name": "stdout",
     "output_type": "stream",
     "text": [
      "      valid  test    train\n",
      " 0:    180,     60,     30\n",
      " 1:   1980,    720,    240\n",
      " 2:   2010,    750,    240\n",
      " 3:   1260,    450,    150\n",
      " 4:   1770,    660,    210\n",
      " 5:   1650,    630,    210\n",
      " 6:    360,    150,     60\n",
      " 7:   1290,    450,    150\n",
      " 8:   1260,    450,    150\n",
      " 9:   1320,    480,    150\n",
      "10:   1800,    660,    210\n",
      "11:   1170,    420,    150\n",
      "12:   1890,    690,    210\n",
      "13:   1920,    720,    240\n",
      "14:    690,    270,     90\n",
      "15:    540,    210,     90\n",
      "16:    360,    150,     60\n",
      "17:    990,    360,    120\n",
      "18:   1080,    390,    120\n",
      "19:    180,     60,     30\n",
      "20:    300,     90,     60\n",
      "21:    270,     90,     60\n",
      "22:    330,    120,     60\n",
      "23:    450,    150,     60\n",
      "24:    240,     90,     30\n",
      "25:   1350,    480,    150\n",
      "26:    540,    180,     60\n",
      "27:    210,     60,     30\n",
      "28:    480,    150,     60\n",
      "29:    240,     90,     30\n",
      "30:    390,    150,     60\n",
      "31:    690,    270,     90\n",
      "32:    210,     60,     30\n",
      "33:    599,    210,     90\n",
      "34:    360,    120,     60\n",
      "35:   1080,    390,    120\n",
      "36:    330,    120,     60\n",
      "37:    180,     60,     30\n",
      "38:   1860,    690,    210\n",
      "39:    270,     90,     30\n",
      "40:    300,     90,     60\n",
      "41:    210,     60,     30\n",
      "42:    210,     90,     30\n",
      "2010\n",
      "Training set distribution:\n"
     ]
    },
    {
     "data": {
      "text/plain": [
       "<Container object of 43 artists>"
      ]
     },
     "execution_count": 4,
     "metadata": {},
     "output_type": "execute_result"
    },
    {
     "data": {
      "image/png": "[encoded data removed]",
      "text/plain": [
       "<matplotlib.figure.Figure at 0x7f482ae0b588>"
      ]
     },
     "metadata": {},
     "output_type": "display_data"
    }
   ],
   "source": [
    "classes_n = []\n",
    "\n",
    "print (\"      valid  test    train\")\n",
    "for i in range(43):\n",
    "    train_num = np.where(train['labels'] == i)[0].shape[0]\n",
    "    test_num = np.where(test['labels'] == i)[0].shape[0]\n",
    "    valid_num = np.where(valid['labels'] == i)[0].shape[0]\n",
    "    print(\"%2i: %6i, %6i, %6i\" % (i, train_num, test_num, valid_num))\n",
    "    classes_n.append(train_num)\n",
    "classes_n_max = max(classes_n)\n",
    "print(classes_n_max)\n",
    "print(\"Training set distribution:\")\n",
    "\n",
    "\n",
    "N = len(classes_n)\n",
    "x = range(N)\n",
    "plt.bar(x, classes_n, color=\"blue\")"
   ]
  },
  {
   "cell_type": "code",
   "execution_count": null,
   "metadata": {
    "collapsed": true
   },
   "outputs": [],
   "source": []
  },
  {
   "cell_type": "markdown",
   "metadata": {},
   "source": [
    "----\n",
    "\n",
    "## Step 2: Design and Test a Model Architecture\n",
    "\n",
    "Design and implement a deep learning model that learns to recognize traffic signs. Train and test your model on the [German Traffic Sign Dataset](http://benchmark.ini.rub.de/?section=gtsrb&subsection=dataset).\n",
    "\n",
    "The LeNet-5 implementation shown in the [classroom](https://classroom.udacity.com/nanodegrees/nd013/parts/fbf77062-5703-404e-b60c-95b78b2f3f9e/modules/6df7ae49-c61c-4bb2-a23e-6527e69209ec/lessons/601ae704-1035-4287-8b11-e2c2716217ad/concepts/d4aca031-508f-4e0b-b493-e7b706120f81) at the end of the CNN lesson is a solid starting point. You'll have to change the number of classes and possibly the preprocessing, but aside from that it's plug and play! \n",
    "\n",
    "With the LeNet-5 solution from the lecture, you should expect a validation set accuracy of about 0.89. To meet specifications, the validation set accuracy will need to be at least 0.93. It is possible to get an even higher accuracy, but 0.93 is the minimum for a successful project submission. \n",
    "\n",
    "There are various aspects to consider when thinking about this problem:\n",
    "\n",
    "- Neural network architecture (is the network over or underfitting?)\n",
    "- Play around preprocessing techniques (normalization, rgb to grayscale, etc)\n",
    "- Number of examples per label (some have more than others).\n",
    "- Generate fake data.\n",
    "\n",
    "Here is an example of a [published baseline model on this problem](http://yann.lecun.com/exdb/publis/pdf/sermanet-ijcnn-11.pdf). It's not required to be familiar with the approach used in the paper but, it's good practice to try to read papers like these."
   ]
  },
  {
   "cell_type": "markdown",
   "metadata": {},
   "source": [
    "### Pre-process the Data Set (normalization, grayscale, etc.)"
   ]
  },
  {
   "cell_type": "markdown",
   "metadata": {},
   "source": [
    "Minimally, the image data should be normalized so that the data has mean zero and equal variance. For image data, `(pixel - 128)/ 128` is a quick way to approximately normalize the data and can be used in this project. \n",
    "\n",
    "Other pre-processing steps are optional. You can try different techniques to see if it improves performance. \n",
    "\n",
    "Use the code cell (or multiple code cells, if necessary) to implement the first step of your project."
   ]
  },
  {
   "cell_type": "code",
   "execution_count": 5,
   "metadata": {
    "collapsed": true
   },
   "outputs": [],
   "source": [
    "### Preprocess the data here. It is required to normalize the data. Other preprocessing steps could include \n",
    "### converting to grayscale, etc.\n",
    "### Feel free to use as many code cells as needed.\n",
    "\n",
    "import cv2\n",
    "from sklearn.utils import shuffle\n",
    "\n",
    "X_train = np.copy(X_training)\n",
    "y_train = np.copy(y_training)\n",
    "\n",
    "for i in range(43):\n",
    "    mult_by = int((classes_n_max-classes_n[i])/classes_n[i])\n",
    "    X_class = X_training[np.where(y_training==i)]\n",
    "    for _ in range(mult_by):\n",
    "#        random_agument=np.random.binomial(n=8, p=0.5, size=(classes_n[i], 32, 32, 3))\n",
    "        X_train = np.concatenate((X_train, X_class))\n",
    "        y = np.zeros(classes_n[i])\n",
    "        y.fill(i)\n",
    "        y_train = np.append(y_train, y)\n",
    "    reminder = classes_n_max -classes_n[i] - (classes_n[i])*mult_by\n",
    "    if reminder != 0:\n",
    "        imgs = []\n",
    "        for n in range(reminder):\n",
    "            imgs.append(X_class[n])\n",
    "        imgs = np.array(imgs)\n",
    "        X_train = np.concatenate((X_train, imgs))\n",
    "        y = np.zeros(reminder)\n",
    "        y.fill(i)\n",
    "        y_train = np.append(y_train, y)\n",
    "\n",
    "X_train = np.float32(X_train/255)\n",
    "#random_agument=np.random.binomial(n=8, p=0.5, size=X_train.shape)\n",
    "#X_train = np.uint8(X_train + random_agument)\n",
    "\n",
    "X_train, y_train = shuffle(X_train, y_train)"
   ]
  },
  {
   "cell_type": "markdown",
   "metadata": {},
   "source": [
    "### Model Architecture"
   ]
  },
  {
   "cell_type": "code",
   "execution_count": 6,
   "metadata": {
    "collapsed": true
   },
   "outputs": [],
   "source": [
    "### Define your architecture here.\n",
    "### Feel free to use as many code cells as needed.\n",
    "import tensorflow as tf\n",
    "from tensorflow.contrib.layers import flatten, dropout\n",
    "\n",
    "nn_activations=[]\n",
    "\n",
    "def Network(x):    \n",
    "    # Arguments used for tf.truncated_normal, randomly defines variables for the weights and biases for each layer\n",
    "    mu = 0\n",
    "    sigma = 0.1\n",
    "    \n",
    "    initial_depth = 6\n",
    "    \n",
    "    # Layer 1: Convolutional. Input = 32x32x1. Output = 26x26x6.\n",
    "    l1_w = tf.Variable(tf.truncated_normal(shape=(7,7,3,initial_depth), stddev=sigma, mean=mu))\n",
    "    l1_b = tf.Variable(tf.zeros(initial_depth))\n",
    "    l1_ = tf.nn.conv2d(x, l1_w, strides=[1,1,1,1], padding='VALID') + l1_b\n",
    "    l1 = tf.nn.relu(l1_)\n",
    "#    l1 = dropout(l1, 0.95)\n",
    "\n",
    "    # Layer 2: Convolutional. Input = 25x25x6 Output = 10x10x12\n",
    "    l2_w = tf.Variable(tf.truncated_normal(shape=(5,5,initial_depth,initial_depth*2), mean=mu, stddev=sigma))\n",
    "    l2_b = tf.Variable(tf.zeros(initial_depth*2))\n",
    "    l2_ = tf.nn.conv2d(l1, l2_w, strides = [1,2,2,1], padding='VALID') + l2_b\n",
    "    \n",
    "    # TODO: Activation.\n",
    "    l2 = tf.nn.relu(l2_)   \n",
    "#    l2 = dropout(l2, 0.95)\n",
    "    # Layer 3: Convolutional. Input = 10x10x12 Output = 8x8x24.\n",
    "    l3_w = tf.Variable(tf.truncated_normal(shape=(3,3,initial_depth*2,initial_depth*4), mean=mu, stddev=sigma))\n",
    "    l3_b = tf.Variable(tf.zeros(initial_depth*4))\n",
    "    l3_ = tf.nn.conv2d(l2, l3_w, strides = [1,1,1,1], padding='VALID') + l3_b\n",
    "    l3 = tf.nn.relu(l3_)\n",
    "\n",
    "#    l3 = dropout(l3,0.95)\n",
    "\n",
    "    # Layer 3: Convolutional. Input = 8x8x24 Output = 3x3x48.\n",
    "    l4_w = tf.Variable(tf.truncated_normal(shape=(5,5,initial_depth*4,initial_depth*8), mean=mu, stddev=sigma))\n",
    "    l4_b = tf.Variable(tf.zeros(initial_depth*8))\n",
    "    l4_ = tf.nn.conv2d(l3, l4_w, strides = [1,2,2,1], padding='VALID') + l4_b\n",
    "    l4 = tf.nn.relu(l4_)\n",
    "\n",
    "#    l4 = dropout(l4, 0.95)\n",
    "\n",
    "    l4_f = flatten(l4)\n",
    "    \n",
    "    # Fully Connected. Input = 432. Output = 250.\n",
    "    l5_w = tf.Variable(tf.truncated_normal(shape=(432,200), mean=mu, stddev=sigma))\n",
    "    l5_b = tf.Variable(tf.zeros(200))\n",
    "    l5_ = tf.matmul(l4_f, l5_w) + l5_b\n",
    "    l5 = tf.nn.relu(l5_)\n",
    "#    l5 = dropout(l5, 0.95)\n",
    "\n",
    "    # Fully Connected\n",
    "    l6_w = tf.Variable(tf.truncated_normal(shape=(200,100), mean=mu, stddev=sigma))\n",
    "    l6_b = tf.Variable(tf.zeros(100))\n",
    "    l6_  = tf.matmul(l5,l6_w)+ l6_b\n",
    "    l6 = tf.nn.relu(l6_)\n",
    "#    l6 = dropout(l6, 0.95)\n",
    "\n",
    "#    l7_w = tf.Variable(tf.truncated_normal(shape=(500,250), mean=mu, stddev=sigma))\n",
    "#    l7_b = tf.Variable(tf.zeros(250))\n",
    "#    l7_  = tf.matmul(l6,l7_w)+ l7_b\n",
    "#    l7 = tf.nn.relu(l7_)\n",
    "#    l7 = dropout(l7, 0.95)\n",
    "    \n",
    "    # Fully Connected. Input = 150. Output = 43.\n",
    "    l8_w = tf.Variable(tf.truncated_normal(shape=(100,43), mean=mu, stddev=sigma))\n",
    "    l8_b = tf.Variable(tf.zeros(43))\n",
    "    logits = tf.matmul(l6, l8_w) + l8_b\n",
    "    \n",
    "    nn_activations = [l1,l2,l3,l4,l5,l6]\n",
    "    return (logits, nn_activations)"
   ]
  },
  {
   "cell_type": "markdown",
   "metadata": {},
   "source": [
    "### Train, Validate and Test the Model"
   ]
  },
  {
   "cell_type": "markdown",
   "metadata": {},
   "source": [
    "A validation set can be used to assess how well the model is performing. A low accuracy on the training and validation\n",
    "sets imply underfitting. A high accuracy on the training set but low accuracy on the validation set implies overfitting."
   ]
  },
  {
   "cell_type": "code",
   "execution_count": 7,
   "metadata": {
    "collapsed": true
   },
   "outputs": [],
   "source": [
    "x = tf.placeholder(tf.float32, (None, 32, 32, 3))\n",
    "y = tf.placeholder(tf.int32, (None))\n",
    "one_hot_y = tf.one_hot(y, n_classes)"
   ]
  },
  {
   "cell_type": "code",
   "execution_count": 8,
   "metadata": {
    "collapsed": true
   },
   "outputs": [],
   "source": [
    "### Train your model here.\n",
    "### Calculate and report the accuracy on the training and validation set.\n",
    "### Once a final model architecture is selected, \n",
    "### the accuracy on the test set should be calculated and reported as well.\n",
    "### Feel free to use as many code cells as needed.\n",
    "\n",
    "rate = 0.001\n",
    "\n",
    "(logits, nn_activations) = Network(x)\n",
    "cross_entropy = tf.nn.softmax_cross_entropy_with_logits(labels=one_hot_y, logits=logits)\n",
    "loss_operation = tf.reduce_mean(cross_entropy)\n",
    "optimizer = tf.train.AdamOptimizer(learning_rate = rate)\n",
    "training_operation = optimizer.minimize(loss_operation)\n",
    "\n",
    "\n"
   ]
  },
  {
   "cell_type": "code",
   "execution_count": 9,
   "metadata": {
    "collapsed": true
   },
   "outputs": [],
   "source": [
    "correct_prediction = tf.equal(tf.argmax(logits, 1), tf.argmax(one_hot_y, 1))\n",
    "accuracy_operation = tf.reduce_mean(tf.cast(correct_prediction, tf.float32))\n",
    "saver = tf.train.Saver()\n",
    "\n",
    "batch_size = 126\n",
    "\n",
    "def evaluate(X_data, y_data):\n",
    "    num_examples = len(X_data)\n",
    "    total_accuracy = 0\n",
    "    sess = tf.get_default_session()\n",
    "    for offset in range(0, num_examples, batch_size):\n",
    "        batch_x, batch_y = X_data[offset:offset+batch_size], y_data[offset:offset+batch_size]\n",
    "        accuracy = sess.run(accuracy_operation, feed_dict={x: batch_x, y: batch_y})\n",
    "        total_accuracy += (accuracy * len(batch_x))\n",
    "    return total_accuracy / num_examples"
   ]
  },
  {
   "cell_type": "code",
   "execution_count": 10,
   "metadata": {},
   "outputs": [
    {
     "name": "stdout",
     "output_type": "stream",
     "text": [
      "Training...\n",
      "\n",
      "EPOCH 1 ...\n",
      "Accuracy = 0.845\n",
      "\n",
      "EPOCH 2 ...\n",
      "Accuracy = 0.871\n",
      "\n",
      "EPOCH 3 ...\n",
      "Accuracy = 0.894\n",
      "\n",
      "EPOCH 4 ...\n",
      "Accuracy = 0.902\n",
      "\n",
      "EPOCH 5 ...\n",
      "Accuracy = 0.881\n",
      "\n",
      "EPOCH 6 ...\n",
      "Accuracy = 0.910\n",
      "\n",
      "EPOCH 7 ...\n",
      "Accuracy = 0.913\n",
      "\n",
      "EPOCH 8 ...\n",
      "Accuracy = 0.894\n",
      "\n",
      "EPOCH 9 ...\n",
      "Accuracy = 0.919\n",
      "\n",
      "EPOCH 10 ...\n",
      "Accuracy = 0.912\n",
      "\n",
      "EPOCH 11 ...\n",
      "Accuracy = 0.922\n",
      "\n",
      "EPOCH 12 ...\n",
      "Accuracy = 0.906\n",
      "\n",
      "EPOCH 13 ...\n",
      "Accuracy = 0.924\n",
      "\n",
      "EPOCH 14 ...\n",
      "Accuracy = 0.922\n",
      "\n",
      "EPOCH 15 ...\n",
      "Accuracy = 0.914\n",
      "\n",
      "EPOCH 16 ...\n",
      "Accuracy = 0.909\n",
      "\n",
      "EPOCH 17 ...\n",
      "Accuracy = 0.928\n",
      "\n",
      "EPOCH 18 ...\n",
      "Accuracy = 0.927\n",
      "\n",
      "EPOCH 19 ...\n",
      "Accuracy = 0.927\n",
      "\n",
      "EPOCH 20 ...\n",
      "Accuracy = 0.894\n",
      "\n",
      "EPOCH 21 ...\n",
      "Accuracy = 0.863\n",
      "\n",
      "EPOCH 22 ...\n",
      "Accuracy = 0.924\n",
      "\n",
      "EPOCH 23 ...\n",
      "Accuracy = 0.928\n",
      "\n",
      "EPOCH 24 ...\n",
      "Accuracy = 0.924\n",
      "\n",
      "EPOCH 25 ...\n",
      "Accuracy = 0.931\n",
      "\n",
      "EPOCH 26 ...\n",
      "Accuracy = 0.933\n",
      "\n",
      "EPOCH 27 ...\n",
      "Accuracy = 0.918\n",
      "\n",
      "EPOCH 28 ...\n",
      "Accuracy = 0.917\n",
      "\n",
      "EPOCH 29 ...\n",
      "Accuracy = 0.926\n",
      "\n",
      "EPOCH 30 ...\n",
      "Accuracy = 0.932\n",
      "\n",
      "Validation Accuracy = 0.949\n",
      "train Accuracy = 1.000\n",
      "Model saved\n"
     ]
    }
   ],
   "source": [
    "epochs = 30\n",
    "\n",
    "\n",
    "with tf.Session() as sess:\n",
    "    sess.run(tf.global_variables_initializer())\n",
    "    num_examples = len(X_train)\n",
    "    \n",
    "    print(\"Training...\")\n",
    "    print()\n",
    "    for i in range(epochs):\n",
    "        X_train, y_train = shuffle(X_train, y_train)\n",
    "        for offset in range(0, num_examples, batch_size):\n",
    "            end = offset + batch_size\n",
    "            batch_x, batch_y = X_train[offset:end], y_train[offset:end]\n",
    "            sess.run(training_operation, feed_dict={x: batch_x, y: batch_y})\n",
    "            \n",
    "        test_accuracy = evaluate(X_test, y_test)\n",
    "        print(\"EPOCH {} ...\".format(i+1))\n",
    "        print(\"Accuracy = {:.3f}\".format(test_accuracy))\n",
    "        print()\n",
    "        \n",
    "    validation_accuracy = evaluate(X_valid, y_valid)\n",
    "    print(\"Validation Accuracy = {:.3f}\".format(validation_accuracy))\n",
    "    train_accuracy = evaluate(X_train, y_train)\n",
    "    print(\"train Accuracy = {:.3f}\".format(train_accuracy))\n",
    "    \n",
    "    saver.save(sess, './lenet')\n",
    "    print(\"Model saved\")"
   ]
  },
  {
   "cell_type": "markdown",
   "metadata": {},
   "source": [
    "---\n",
    "\n",
    "## Step 3: Test a Model on New Images\n",
    "\n",
    "To give yourself more insight into how your model is working, download at least five pictures of German traffic signs from the web and use your model to predict the traffic sign type.\n",
    "\n",
    "You may find `signnames.csv` useful as it contains mappings from the class id (integer) to the actual sign name."
   ]
  },
  {
   "cell_type": "markdown",
   "metadata": {},
   "source": [
    "### Load and Output the Images"
   ]
  },
  {
   "cell_type": "code",
   "execution_count": 40,
   "metadata": {},
   "outputs": [
    {
     "name": "stdout",
     "output_type": "stream",
     "text": [
      "INFO:tensorflow:Restoring parameters from ./lenet\n"
     ]
    },
    {
     "data": {
      "image/png": "[encoded data removed]",
      "text/plain": [
       "<matplotlib.figure.Figure at 0x7f47d67ba908>"
      ]
     },
     "metadata": {},
     "output_type": "display_data"
    },
    {
     "data": {
      "image/png": "[encoded data removed]",
      "text/plain": [
       "<matplotlib.figure.Figure at 0x7f47d608bc18>"
      ]
     },
     "metadata": {},
     "output_type": "display_data"
    },
    {
     "data": {
      "image/png": "[encoded data removed]",
      "text/plain": [
       "<matplotlib.figure.Figure at 0x7f4808f1ceb8>"
      ]
     },
     "metadata": {},
     "output_type": "display_data"
    },
    {
     "data": {
      "image/png": "[encoded data removed]",
      "text/plain": [
       "<matplotlib.figure.Figure at 0x7f47d63463c8>"
      ]
     },
     "metadata": {},
     "output_type": "display_data"
    },
    {
     "data": {
      "image/png": "[encoded data removed]",
      "text/plain": [
       "<matplotlib.figure.Figure at 0x7f47d4207550>"
      ]
     },
     "metadata": {},
     "output_type": "display_data"
    }
   ],
   "source": [
    "### Load the images and plot them here.\n",
    "### Feel free to use as many code cells as needed.\n",
    "import cv2\n",
    "sess = tf.Session()\n",
    "saver.restore(sess, './lenet')\n",
    "\n",
    "new_images = []\n",
    "for i in [\"right-of-way-809137_640.jpg\", \"stop-1591529_640.jpg\", \n",
    "          \"work_in_progress.jpeg\", \"roundabout-1558430_640.jpg\", \"stop-705669_640.jpg\"]:\n",
    "    img = plt.imread(\"images/%s\" % i)\n",
    "    img_res = res = cv2.resize(img,(32, 32))\n",
    "    plt.figure(figsize=(1,1))\n",
    "    plt.imshow(img_res)\n",
    "    new_images.append(img_res)\n",
    "#index = 2\n",
    "#for num in range(43):\n",
    "#    img = plt.imread(\"images/GTSRB/Final_Training/Images/%05d/00000_%05d.ppm\" % (num, index))\n",
    "#    img_res = res = cv2.resize(img,(32, 32))\n",
    "#    plt.figure(figsize=(1,1))\n",
    "#    plt.imshow(img_res)"
   ]
  },
  {
   "cell_type": "code",
   "execution_count": null,
   "metadata": {
    "collapsed": true
   },
   "outputs": [],
   "source": []
  },
  {
   "cell_type": "markdown",
   "metadata": {},
   "source": [
    "### Predict the Sign Type for Each Image"
   ]
  },
  {
   "cell_type": "code",
   "execution_count": 46,
   "metadata": {},
   "outputs": [
    {
     "name": "stdout",
     "output_type": "stream",
     "text": [
      "13\n",
      "14\n",
      "25\n",
      "40\n",
      "14\n"
     ]
    }
   ],
   "source": [
    "### Run the predictions here and use the model to output the prediction for each image.\n",
    "### Make sure to pre-process the images with the same pre-processing pipeline used earlier.\n",
    "### Feel free to use as many code cells as needed.\n",
    "\n",
    "new_images_category=[13,14,25,40,14]\n",
    "\n",
    "wrong = 0\n",
    "right = 0\n",
    "for img in new_images:\n",
    "    img = np.float32(img/255)\n",
    "    result = sess.run(logits, {x: [img]}).argmax()\n",
    "    if result == new_images_category.pop(0):\n",
    "        right+=1\n",
    "    else:\n",
    "        wrong+=1\n",
    "    print (result)\n",
    "\n",
    "\n",
    "#right=0\n",
    "#wrong=0\n",
    "#for index in range(1000):\n",
    "#    for num in range(43):\n",
    "#        try:\n",
    "#             img = plt.imread(\"images/GTSRB/Final_Training/Images/%05d/00000_%05d.ppm\" % (num, index))\n",
    "#        except:\n",
    "#             continue\n",
    "#        img_res = res = cv2.resize(img,(32, 32))\n",
    "#        img_res = np.float32(img_res/255)\n",
    "#        result = sess.run(logits, {x: [img_res]})\n",
    "#        if (result.argmax() != num):\n",
    "#            print(result.argmax(), num, index)\n",
    "#            plt.figure(figsize=(1,1))\n",
    "#            plt.imshow(img_res)\n",
    "#            wrong+=1\n",
    "#        else:\n",
    "#            right+=1\n"
   ]
  },
  {
   "cell_type": "code",
   "execution_count": null,
   "metadata": {},
   "outputs": [],
   "source": []
  },
  {
   "cell_type": "markdown",
   "metadata": {},
   "source": [
    "### Analyze Performance"
   ]
  },
  {
   "cell_type": "code",
   "execution_count": 52,
   "metadata": {},
   "outputs": [
    {
     "name": "stdout",
     "output_type": "stream",
     "text": [
      "right: 5, wrong: 0, accuracy: 100%\n"
     ]
    }
   ],
   "source": [
    "### Calculate the accuracy for these 5 new images. \n",
    "### For example, if the model predicted 1 out of 5 signs correctly, it's 20% accurate on these new images.\n",
    "print(\"right: %i, wrong: %i, accuracy: %i%%\" % (right, wrong, right/(right+wrong)*100))"
   ]
  },
  {
   "cell_type": "markdown",
   "metadata": {},
   "source": [
    "### Output Top 5 Softmax Probabilities For Each Image Found on the Web"
   ]
  },
  {
   "cell_type": "markdown",
   "metadata": {},
   "source": [
    "For each of the new images, print out the model's softmax probabilities to show the **certainty** of the model's predictions (limit the output to the top 5 probabilities for each image). [`tf.nn.top_k`](https://www.tensorflow.org/versions/r0.12/api_docs/python/nn.html#top_k) could prove helpful here. \n",
    "\n",
    "The example below demonstrates how tf.nn.top_k can be used to find the top k predictions for each image.\n",
    "\n",
    "`tf.nn.top_k` will return the values and indices (class ids) of the top k predictions. So if k=3, for each sign, it'll return the 3 largest probabilities (out of a possible 43) and the correspoding class ids.\n",
    "\n",
    "Take this numpy array as an example. The values in the array represent predictions. The array contains softmax probabilities for five candidate images with six possible classes. `tk.nn.top_k` is used to choose the three classes with the highest probability:\n",
    "\n",
    "```\n",
    "# (5, 6) array\n",
    "a = np.array([[ 0.24879643,  0.07032244,  0.12641572,  0.34763842,  0.07893497,\n",
    "         0.12789202],\n",
    "       [ 0.28086119,  0.27569815,  0.08594638,  0.0178669 ,  0.18063401,\n",
    "         0.15899337],\n",
    "       [ 0.26076848,  0.23664738,  0.08020603,  0.07001922,  0.1134371 ,\n",
    "         0.23892179],\n",
    "       [ 0.11943333,  0.29198961,  0.02605103,  0.26234032,  0.1351348 ,\n",
    "         0.16505091],\n",
    "       [ 0.09561176,  0.34396535,  0.0643941 ,  0.16240774,  0.24206137,\n",
    "         0.09155967]])\n",
    "```\n",
    "\n",
    "Running it through `sess.run(tf.nn.top_k(tf.constant(a), k=3))` produces:\n",
    "\n",
    "```\n",
    "TopKV2(values=array([[ 0.34763842,  0.24879643,  0.12789202],\n",
    "       [ 0.28086119,  0.27569815,  0.18063401],\n",
    "       [ 0.26076848,  0.23892179,  0.23664738],\n",
    "       [ 0.29198961,  0.26234032,  0.16505091],\n",
    "       [ 0.34396535,  0.24206137,  0.16240774]]), indices=array([[3, 0, 5],\n",
    "       [0, 1, 4],\n",
    "       [0, 5, 1],\n",
    "       [1, 3, 5],\n",
    "       [1, 4, 3]], dtype=int32))\n",
    "```\n",
    "\n",
    "Looking just at the first row we get `[ 0.34763842,  0.24879643,  0.12789202]`, you can confirm these are the 3 largest probabilities in `a`. You'll also notice `[3, 0, 5]` are the corresponding indices."
   ]
  },
  {
   "cell_type": "code",
   "execution_count": 88,
   "metadata": {},
   "outputs": [
    {
     "name": "stdout",
     "output_type": "stream",
     "text": [
      "[[  1.45202569e-29   2.39081593e-24   6.95184114e-23   4.01195497e-22\n",
      "    1.00000000e+00]]\n",
      "[[  1.11577351e-20   2.56082245e-19   2.72428812e-18   8.52192238e-17\n",
      "    1.00000000e+00]]\n",
      "[[  6.26544649e-12   4.00037115e-10   1.76224435e-09   3.39716195e-07\n",
      "    9.99999642e-01]]\n",
      "[[  1.22343373e-20   5.54340904e-20   2.13624042e-17   5.83210633e-11\n",
      "    1.00000000e+00]]\n",
      "[[  1.76497022e-12   7.20295077e-08   3.90595642e-06   2.84889575e-05\n",
      "    9.99967456e-01]]\n"
     ]
    }
   ],
   "source": [
    "### Print out the top five softmax probabilities for the predictions on the German traffic sign images found on the web. \n",
    "### Feel free to use as many code cells as needed.\n",
    "\n",
    "def softmax(x):\n",
    "    e_x = np.exp(x - np.max(x))\n",
    "    return e_x / e_x.sum()\n",
    "\n",
    "for img in new_images:\n",
    "    img = np.float32(img/255)\n",
    "    result = sess.run(logits, {x: [img]})\n",
    "    softmax_r = softmax(result)\n",
    "    print (np.sort(softmax_r)[:,-5:])\n"
   ]
  },
  {
   "cell_type": "markdown",
   "metadata": {},
   "source": [
    "### Project Writeup\n",
    "\n",
    "Once you have completed the code implementation, document your results in a project writeup using this [template](https://github.com/udacity/CarND-Traffic-Sign-Classifier-Project/blob/master/writeup_template.md) as a guide. The writeup can be in a markdown or pdf file. "
   ]
  },
  {
   "cell_type": "markdown",
   "metadata": {},
   "source": [
    "> **Note**: Once you have completed all of the code implementations and successfully answered each question above, you may finalize your work by exporting the iPython Notebook as an HTML document. You can do this by using the menu above and navigating to  \\n\",\n",
    "    \"**File -> Download as -> HTML (.html)**. Include the finished document along with this notebook as your submission."
   ]
  },
  {
   "cell_type": "markdown",
   "metadata": {},
   "source": [
    "---\n",
    "\n",
    "## Step 4 (Optional): Visualize the Neural Network's State with Test Images\n",
    "\n",
    " This Section is not required to complete but acts as an additional excersise for understaning the output of a neural network's weights. While neural networks can be a great learning device they are often referred to as a black box. We can understand what the weights of a neural network look like better by plotting their feature maps. After successfully training your neural network you can see what it's feature maps look like by plotting the output of the network's weight layers in response to a test stimuli image. From these plotted feature maps, it's possible to see what characteristics of an image the network finds interesting. For a sign, maybe the inner network feature maps react with high activation to the sign's boundary outline or to the contrast in the sign's painted symbol.\n",
    "\n",
    " Provided for you below is the function code that allows you to get the visualization output of any tensorflow weight layer you want. The inputs to the function should be a stimuli image, one used during training or a new one you provided, and then the tensorflow variable name that represents the layer's state during the training process, for instance if you wanted to see what the [LeNet lab's](https://classroom.udacity.com/nanodegrees/nd013/parts/fbf77062-5703-404e-b60c-95b78b2f3f9e/modules/6df7ae49-c61c-4bb2-a23e-6527e69209ec/lessons/601ae704-1035-4287-8b11-e2c2716217ad/concepts/d4aca031-508f-4e0b-b493-e7b706120f81) feature maps looked like for it's second convolutional layer you could enter conv2 as the tf_activation variable.\n",
    "\n",
    "For an example of what feature map outputs look like, check out NVIDIA's results in their paper [End-to-End Deep Learning for Self-Driving Cars](https://devblogs.nvidia.com/parallelforall/deep-learning-self-driving-cars/) in the section Visualization of internal CNN State. NVIDIA was able to show that their network's inner weights had high activations to road boundary lines by comparing feature maps from an image with a clear path to one without. Try experimenting with a similar test to show that your trained network's weights are looking for interesting features, whether it's looking at differences in feature maps from images with or without a sign, or even what feature maps look like in a trained network vs a completely untrained one on the same sign image.\n",
    "\n",
    "<figure>\n",
    " <img src=\"visualize_cnn.png\" width=\"380\" alt=\"Combined Image\" />\n",
    " <figcaption>\n",
    " <p></p> \n",
    " <p style=\"text-align: center;\"> Your output should look something like this (above)</p> \n",
    " </figcaption>\n",
    "</figure>\n",
    " <p></p> \n"
   ]
  },
  {
   "cell_type": "code",
   "execution_count": 44,
   "metadata": {
    "collapsed": true
   },
   "outputs": [],
   "source": [
    "### Visualize your network's feature maps here.\n",
    "### Feel free to use as many code cells as needed.\n",
    "\n",
    "# image_input: the test image being fed into the network to produce the feature maps\n",
    "# tf_activation: should be a tf variable name used during your training procedure that represents the calculated state of a specific weight layer\n",
    "# activation_min/max: can be used to view the activation contrast in more detail, by default matplot sets min and max to the actual min and max values of the output\n",
    "# plt_num: used to plot out multiple different weight feature map sets on the same block, just extend the plt number for each new feature map entry\n",
    "\n",
    "def outputFeatureMap(image_input, tf_activation, activation_min=-1, activation_max=-1 ,plt_num=1):\n",
    "    # Here make sure to preprocess your image_input in a way your network expects\n",
    "    # with size, normalization, ect if needed\n",
    "    # image_input =\n",
    "    # Note: x should be the same name as your network's tensorflow data placeholder variable\n",
    "    # If you get an error tf_activation is not defined it may be having trouble accessing the variable from inside a function\n",
    "    activation = tf_activation.eval(session=sess,feed_dict={x : image_input})\n",
    "    featuremaps = activation.shape[3]\n",
    "    plt.figure(plt_num, figsize=(15,15))\n",
    "    for featuremap in range(featuremaps):\n",
    "        plt.subplot(6,8, featuremap+1) # sets the number of feature maps to show on each row and column\n",
    "        plt.title('FeatureMap ' + str(featuremap)) # displays the feature map number\n",
    "        if activation_min != -1 & activation_max != -1:\n",
    "            plt.imshow(activation[0,:,:, featuremap], interpolation=\"nearest\", vmin =activation_min, vmax=activation_max, cmap=\"gray\")\n",
    "        elif activation_max != -1:\n",
    "            plt.imshow(activation[0,:,:, featuremap], interpolation=\"nearest\", vmax=activation_max, cmap=\"gray\")\n",
    "        elif activation_min !=-1:\n",
    "            plt.imshow(activation[0,:,:, featuremap], interpolation=\"nearest\", vmin=activation_min, cmap=\"gray\")\n",
    "        else:\n",
    "            plt.imshow(activation[0,:,:, featuremap], interpolation=\"nearest\", cmap=\"gray\")"
   ]
  },
  {
   "cell_type": "code",
   "execution_count": null,
   "metadata": {
    "collapsed": true
   },
   "outputs": [],
   "source": []
  },
  {
   "cell_type": "code",
   "execution_count": 100,
   "metadata": {},
   "outputs": [
    {
     "data": {
      "image/png": "[encoded data removed]",
      "text/plain": [
       "<matplotlib.figure.Figure at 0x7f47f43bef28>"
      ]
     },
     "metadata": {},
     "output_type": "display_data"
    }
   ],
   "source": [
    "img = new_images[2]\n",
    "img = np.float32(img/255)\n",
    "outputFeatureMap([img], nn_activations[0])"
   ]
  },
  {
   "cell_type": "code",
   "execution_count": null,
   "metadata": {
    "collapsed": true
   },
   "outputs": [],
   "source": []
  },
  {
   "cell_type": "code",
   "execution_count": null,
   "metadata": {
    "collapsed": true
   },
   "outputs": [],
   "source": []
  },
  {
   "cell_type": "code",
   "execution_count": null,
   "metadata": {
    "collapsed": true
   },
   "outputs": [],
   "source": []
  },
  {
   "cell_type": "code",
   "execution_count": null,
   "metadata": {
    "collapsed": true
   },
   "outputs": [],
   "source": []
  },
  {
   "cell_type": "code",
   "execution_count": null,
   "metadata": {
    "collapsed": true
   },
   "outputs": [],
   "source": []
  },
  {
   "cell_type": "code",
   "execution_count": null,
   "metadata": {
    "collapsed": true
   },
   "outputs": [],
   "source": []
  },
  {
   "cell_type": "code",
   "execution_count": null,
   "metadata": {
    "collapsed": true
   },
   "outputs": [],
   "source": []
  }
 ],
 "metadata": {
  "anaconda-cloud": {},
  "kernelspec": {
   "display_name": "Python 3",
   "language": "python",
   "name": "python3"
  },
  "language_info": {
   "codemirror_mode": {
    "name": "ipython",
    "version": 3
   },
   "file_extension": ".py",
   "mimetype": "text/x-python",
   "name": "python",
   "nbconvert_exporter": "python",
   "pygments_lexer": "ipython3",
   "version": "3.5.2"
  },
  "widgets": {
   "state": {},
   "version": "1.1.2"
  }
 },
 "nbformat": 4,
 "nbformat_minor": 1
}
